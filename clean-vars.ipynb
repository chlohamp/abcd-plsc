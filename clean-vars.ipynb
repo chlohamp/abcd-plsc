{
 "cells": [
  {
   "cell_type": "code",
   "execution_count": 5,
   "id": "20d5baaf",
   "metadata": {},
   "outputs": [
    {
     "name": "stdout",
     "output_type": "stream",
     "text": [
      "Loaded datasets:\n",
      "Sociocultural data shape: (236, 20)\n",
      "RSFC data shape: (236, 66)\n",
      "\n",
      "Sociocultural columns:\n",
      "['macv_p_ss_fs', 'macv_p_ss_fo', 'macv_p_ss_fr', 'macv_y_ss_fs', 'macv_y_ss_fo', 'macv_y_ss_fr', 'reshist_addr1_coi_r_coi_nat', 'meim_p_ss_exp', 'meim_p_ss_com', 'reshist_addr1_nanda_disadv_fac', 'meim_ss_exp', 'meim_ss_com', 'reshist_addr1_gstat_h_queen', 'dim_y_ss_mean', 'via_p_ss_hc', 'via_p_ss_amer', 'via_ss_hc', 'via_ss_amer', 'comc_ss_cohesion_p', 'comc_ss_control_p']\n",
      "\n",
      "RSFC columns:\n",
      "['rsfmri_c_ngd_cgc_ngd_cgc', 'rsfmri_c_ngd_cgc_ngd_ca', 'rsfmri_c_ngd_cgc_ngd_dt', 'rsfmri_c_ngd_cgc_ngd_dla', 'rsfmri_c_ngd_cgc_ngd_fo', 'rsfmri_c_ngd_cgc_ngd_rspltp', 'rsfmri_c_ngd_cgc_ngd_sa', 'rsfmri_c_ngd_cgc_ngd_smh', 'rsfmri_c_ngd_cgc_ngd_smm', 'rsfmri_c_ngd_cgc_ngd_vta', 'rsfmri_c_ngd_cgc_ngd_vs', 'rsfmri_c_ngd_ca_ngd_ca', 'rsfmri_c_ngd_ca_ngd_dt', 'rsfmri_c_ngd_ca_ngd_dla', 'rsfmri_c_ngd_ca_ngd_fo', 'rsfmri_c_ngd_ca_ngd_rspltp', 'rsfmri_c_ngd_ca_ngd_sa', 'rsfmri_c_ngd_ca_ngd_smh', 'rsfmri_c_ngd_ca_ngd_smm', 'rsfmri_c_ngd_ca_ngd_vta', 'rsfmri_c_ngd_ca_ngd_vs', 'rsfmri_c_ngd_dt_ngd_dt', 'rsfmri_c_ngd_dt_ngd_dla', 'rsfmri_c_ngd_dt_ngd_fo', 'rsfmri_c_ngd_dt_ngd_rspltp', 'rsfmri_c_ngd_dt_ngd_sa', 'rsfmri_c_ngd_dt_ngd_smh', 'rsfmri_c_ngd_dt_ngd_smm', 'rsfmri_c_ngd_dt_ngd_vta', 'rsfmri_c_ngd_dt_ngd_vs', 'rsfmri_c_ngd_dla_ngd_dla', 'rsfmri_c_ngd_dla_ngd_fo', 'rsfmri_c_ngd_dla_ngd_rspltp', 'rsfmri_c_ngd_dla_ngd_sa', 'rsfmri_c_ngd_dla_ngd_smh', 'rsfmri_c_ngd_dla_ngd_smm', 'rsfmri_c_ngd_dla_ngd_vta', 'rsfmri_c_ngd_dla_ngd_vs', 'rsfmri_c_ngd_fo_ngd_fo', 'rsfmri_c_ngd_fo_ngd_rspltp', 'rsfmri_c_ngd_fo_ngd_sa', 'rsfmri_c_ngd_fo_ngd_smh', 'rsfmri_c_ngd_fo_ngd_smm', 'rsfmri_c_ngd_fo_ngd_vta', 'rsfmri_c_ngd_fo_ngd_vs', 'rsfmri_c_ngd_rspltp_ngd_rspltp', 'rsfmri_c_ngd_rspltp_ngd_sa', 'rsfmri_c_ngd_rspltp_ngd_smh', 'rsfmri_c_ngd_rspltp_ngd_smm', 'rsfmri_c_ngd_rspltp_ngd_vta', 'rsfmri_c_ngd_rspltp_ngd_vs', 'rsfmri_c_ngd_sa_ngd_sa', 'rsfmri_c_ngd_sa_ngd_smh', 'rsfmri_c_ngd_sa_ngd_smm', 'rsfmri_c_ngd_sa_ngd_vta', 'rsfmri_c_ngd_sa_ngd_vs', 'rsfmri_c_ngd_smh_ngd_smh', 'rsfmri_c_ngd_smh_ngd_smm', 'rsfmri_c_ngd_smh_ngd_vta', 'rsfmri_c_ngd_smh_ngd_vs', 'rsfmri_c_ngd_smm_ngd_smm', 'rsfmri_c_ngd_smm_ngd_vta', 'rsfmri_c_ngd_smm_ngd_vs', 'rsfmri_c_ngd_vta_ngd_vta', 'rsfmri_c_ngd_vta_ngd_vs', 'rsfmri_c_ngd_vs_ngd_vs']\n"
     ]
    }
   ],
   "source": [
    "import pandas as pd\n",
    "import numpy as np\n",
    "from os.path import join\n",
    "\n",
    "# Load the three CSV files\n",
    "sociocult_df = pd.read_csv(\"derivatives/none-reduced/sociocult.csv\")\n",
    "rsfc_df = pd.read_csv(\"derivatives/none-reduced/rsfc.csv\")\n",
    "\n",
    "print(\"Loaded datasets:\")\n",
    "print(f\"Sociocultural data shape: {sociocult_df.shape}\")\n",
    "print(f\"RSFC data shape: {rsfc_df.shape}\")\n",
    "\n",
    "\n",
    "print(\"\\nSociocultural columns:\")\n",
    "print(sociocult_df.columns.tolist())\n",
    "\n",
    "print(\"\\nRSFC columns:\")\n",
    "print(rsfc_df.columns.tolist())"
   ]
  },
  {
   "cell_type": "code",
   "execution_count": 6,
   "id": "9a66e72f",
   "metadata": {},
   "outputs": [
    {
     "name": "stdout",
     "output_type": "stream",
     "text": [
      "Renamed sociocultural columns:\n",
      "Old column name -> New column name\n",
      "meim_ss_exp -> EIE-Y\n",
      "meim_ss_com -> EIC-Y\n",
      "via_ss_hc -> HA-Y\n",
      "via_ss_amer -> USA-Y\n",
      "macv_y_ss_fs -> FS-Y\n",
      "macv_y_ss_fo -> FO-Y\n",
      "macv_y_ss_fr -> FR-Y\n",
      "meim_p_ss_exp -> EIE-C\n",
      "meim_p_ss_com -> EIC-C\n",
      "via_p_ss_hc -> HA-C\n",
      "via_p_ss_amer -> USA-C\n",
      "macv_p_ss_fs -> FS-C\n",
      "macv_p_ss_fo -> FO-C\n",
      "macv_p_ss_fr -> FR-C\n",
      "dim_y_ss_mean -> PD\n",
      "comc_ss_cohesion_p -> CCoh\n",
      "comc_ss_control_p -> CCon\n",
      "reshist_addr1_coi_r_coi_nat -> COI\n",
      "reshist_addr1_nanda_disadv_fac -> NDI\n",
      "reshist_addr1_gstat_h_queen -> GGS\n",
      "\n",
      "Updated sociocultural columns:\n",
      "['FS-C', 'FO-C', 'FR-C', 'FS-Y', 'FO-Y', 'FR-Y', 'COI', 'EIE-C', 'EIC-C', 'NDI', 'EIE-Y', 'EIC-Y', 'GGS', 'PD', 'HA-C', 'USA-C', 'HA-Y', 'USA-Y', 'CCoh', 'CCon']\n"
     ]
    }
   ],
   "source": [
    "# Rename columns in sociocultural DataFrame\n",
    "socio_column_mapping = {\n",
    "    'meim_ss_exp': 'EIE-Y',\n",
    "    'meim_ss_com': 'EIC-Y',\n",
    "    'via_ss_hc': 'HA-Y',\n",
    "    'via_ss_amer': 'USA-Y',\n",
    "    'macv_y_ss_fs': 'FS-Y',\n",
    "    'macv_y_ss_fo': 'FO-Y',\n",
    "    'macv_y_ss_fr': 'FR-Y',\n",
    "    'meim_p_ss_exp': 'EIE-C',\n",
    "    'meim_p_ss_com': 'EIC-C',\n",
    "    'via_p_ss_hc': 'HA-C',\n",
    "    'via_p_ss_amer': 'USA-C',\n",
    "    'macv_p_ss_fs': 'FS-C',\n",
    "    'macv_p_ss_fo': 'FO-C',\n",
    "    'macv_p_ss_fr': 'FR-C',\n",
    "    'dim_y_ss_mean': 'PD',\n",
    "    'comc_ss_cohesion_p': 'CCoh',\n",
    "    'comc_ss_control_p': 'CCon',\n",
    "    'reshist_addr1_coi_r_coi_nat': 'COI',\n",
    "    'reshist_addr1_nanda_disadv_fac': 'NDI',\n",
    "    'reshist_addr1_gstat_h_queen': 'GGS'\n",
    "}\n",
    "\n",
    "# Apply the column renaming\n",
    "sociocult_df = sociocult_df.rename(columns=socio_column_mapping)\n",
    "\n",
    "print(\"Renamed sociocultural columns:\")\n",
    "print(\"Old column name -> New column name\")\n",
    "for old_name, new_name in socio_column_mapping.items():\n",
    "    print(f\"{old_name} -> {new_name}\")\n",
    "\n",
    "print(f\"\\nUpdated sociocultural columns:\")\n",
    "print(sociocult_df.columns.tolist())"
   ]
  },
  {
   "cell_type": "code",
   "execution_count": 7,
   "id": "51381135",
   "metadata": {},
   "outputs": [
    {
     "name": "stdout",
     "output_type": "stream",
     "text": [
      "RSFC column renaming examples:\n",
      "rsfmri_c_ngd_cgc_ngd_cgc -> CON-CON\n",
      "rsfmri_c_ngd_cgc_ngd_ca -> CON-CPN\n",
      "rsfmri_c_ngd_cgc_ngd_dt -> CON-DN\n",
      "rsfmri_c_ngd_cgc_ngd_dla -> CON-DAN\n",
      "rsfmri_c_ngd_cgc_ngd_fo -> CON-FPN\n",
      "rsfmri_c_ngd_cgc_ngd_rspltp -> CON-RTN\n",
      "rsfmri_c_ngd_cgc_ngd_sa -> CON-SN\n",
      "rsfmri_c_ngd_cgc_ngd_smh -> CON-SHN\n",
      "rsfmri_c_ngd_cgc_ngd_smm -> CON-SMN\n",
      "rsfmri_c_ngd_cgc_ngd_vta -> CON-VAN\n",
      "\n",
      "Total RSFC columns renamed: 66\n",
      "Updated RSFC columns:\n",
      "['CON-CON', 'CON-CPN', 'CON-DN', 'CON-DAN', 'CON-FPN', 'CON-RTN', 'CON-SN', 'CON-SHN', 'CON-SMN', 'CON-VAN', 'CON-VN', 'CPN-CPN', 'CPN-DN', 'CPN-DAN', 'CPN-FPN', 'CPN-RTN', 'CPN-SN', 'CPN-SHN', 'CPN-SMN', 'CPN-VAN', 'CPN-VN', 'DN-DN', 'DN-DAN', 'DN-FPN', 'DN-RTN', 'DN-SN', 'DN-SHN', 'DN-SMN', 'DN-VAN', 'DN-VN', 'DAN-DAN', 'DAN-FPN', 'DAN-RTN', 'DAN-SN', 'DAN-SHN', 'DAN-SMN', 'DAN-VAN', 'DAN-VN', 'FPN-FPN', 'FPN-RTN', 'FPN-SN', 'FPN-SHN', 'FPN-SMN', 'FPN-VAN', 'FPN-VN', 'RTN-RTN', 'RTN-SN', 'RTN-SHN', 'RTN-SMN', 'RTN-VAN', 'RTN-VN', 'SN-SN', 'SN-SHN', 'SN-SMN', 'SN-VAN', 'SN-VN', 'SHN-SHN', 'SHN-SMN', 'SHN-VAN', 'SHN-VN', 'SMN-SMN', 'SMN-VAN', 'SMN-VN', 'VAN-VAN', 'VAN-VN', 'VN-VN']\n"
     ]
    }
   ],
   "source": [
    "# Rename RSFC columns with network abbreviations\n",
    "network_mapping = {\n",
    "    '_ad': 'AN',\n",
    "    '_cgc': 'CON', \n",
    "    '_ca': 'CPN',\n",
    "    '_dt': 'DN',\n",
    "    '_dla': 'DAN',\n",
    "    '_fo': 'FPN',\n",
    "    '_rspltp': 'RTN',\n",
    "    '_smh': 'SHN',\n",
    "    '_smm': 'SMN',\n",
    "    '_sa': 'SN',\n",
    "    '_vta': 'VAN',\n",
    "    '_vs': 'VN'\n",
    "}\n",
    "\n",
    "def rename_rsfc_column(col_name):\n",
    "    \"\"\"\n",
    "    Convert RSFC column names from format like 'rsfmri_c_ngd_cgc_ngd_cgc' to 'CON-CON'\n",
    "    \"\"\"\n",
    "    if not col_name.startswith('rsfmri_c_ngd_'):\n",
    "        return col_name  # Return unchanged if not an RSFC column\n",
    "    \n",
    "    # Remove the 'rsfmri_c_ngd_' prefix\n",
    "    remaining = col_name.replace('rsfmri_c_ngd_', '')\n",
    "    \n",
    "    # Split into network parts and replace with new abbreviations\n",
    "    parts = []\n",
    "    for network_code, new_abbrev in network_mapping.items():\n",
    "        if remaining.startswith(network_code.lstrip('_')):\n",
    "            parts.append(new_abbrev)\n",
    "            remaining = remaining.replace(network_code.lstrip('_') + '_ngd_', '', 1)\n",
    "            break\n",
    "    \n",
    "    # Handle the second network\n",
    "    for network_code, new_abbrev in network_mapping.items():\n",
    "        if remaining == network_code.lstrip('_'):\n",
    "            parts.append(new_abbrev)\n",
    "            break\n",
    "    \n",
    "    return '-'.join(parts) if len(parts) == 2 else col_name\n",
    "\n",
    "# Create mapping for all RSFC columns\n",
    "rsfc_column_mapping = {}\n",
    "for col in rsfc_df.columns:\n",
    "    new_name = rename_rsfc_column(col)\n",
    "    if new_name != col:  # Only include columns that actually changed\n",
    "        rsfc_column_mapping[col] = new_name\n",
    "\n",
    "# Apply the renaming\n",
    "rsfc_df = rsfc_df.rename(columns=rsfc_column_mapping)\n",
    "\n",
    "print(\"RSFC column renaming examples:\")\n",
    "for old_name, new_name in list(rsfc_column_mapping.items())[:10]:  # Show first 10 examples\n",
    "    print(f\"{old_name} -> {new_name}\")\n",
    "\n",
    "print(f\"\\nTotal RSFC columns renamed: {len(rsfc_column_mapping)}\")\n",
    "print(f\"Updated RSFC columns:\")\n",
    "print(rsfc_df.columns.tolist())"
   ]
  },
  {
   "cell_type": "code",
   "execution_count": 8,
   "id": "85caac57",
   "metadata": {},
   "outputs": [
    {
     "name": "stdout",
     "output_type": "stream",
     "text": [
      "Saved cleaned datasets:\n",
      "✓ clean-socio.csv - Shape: (236, 20)\n",
      "✓ clean-rsfc.csv - Shape: (236, 66)\n",
      "\n",
      "Files saved to derivatives/none-reduced/ directory:\n"
     ]
    }
   ],
   "source": [
    "# Save the cleaned DataFrames as new CSV files\n",
    "sociocult_df.to_csv(\"derivatives/none-reduced/clean-socio.csv\", index=False)\n",
    "rsfc_df.to_csv(\"derivatives/none-reduced/clean-rsfc.csv\", index=False)\n",
    "\n",
    "print(\"Saved cleaned datasets:\")\n",
    "print(f\"✓ clean-socio.csv - Shape: {sociocult_df.shape}\")\n",
    "print(f\"✓ clean-rsfc.csv - Shape: {rsfc_df.shape}\")\n",
    "\n",
    "print(\"\\nFiles saved to derivatives/none-reduced/ directory:\")"
   ]
  }
 ],
 "metadata": {
  "kernelspec": {
   "display_name": ".venv",
   "language": "python",
   "name": "python3"
  },
  "language_info": {
   "codemirror_mode": {
    "name": "ipython",
    "version": 3
   },
   "file_extension": ".py",
   "mimetype": "text/x-python",
   "name": "python",
   "nbconvert_exporter": "python",
   "pygments_lexer": "ipython3",
   "version": "3.9.6"
  }
 },
 "nbformat": 4,
 "nbformat_minor": 5
}
